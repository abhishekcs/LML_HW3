{
 "cells": [
  {
   "cell_type": "code",
   "execution_count": 1,
   "metadata": {
    "collapsed": true
   },
   "outputs": [],
   "source": [
    "import numpy as np\n",
    "import pandas as pd\n",
    "import sklearn as sk\n",
    "from sklearn import svm\n",
    "\n",
    "from sklearn.grid_search import GridSearchCV\n",
    "from sklearn.preprocessing import OneHotEncoder\n",
    "\n",
    "def find_index(value, li):\n",
    "    l = len(li)\n",
    "    for i in range(l):\n",
    "        if(li[i] == value):\n",
    "            return i\n",
    "    return -1\n",
    "\n",
    "\n",
    "def find_best_value_for_parameter(X, y,\n",
    "                                  other_parameter_values,\n",
    "                                  parameter_name,\n",
    "                                  first_level_values,\n",
    "                                  second_level_values):\n",
    "    grid = {parameter_name: first_level_values}\n",
    "    clf = svm.SVC()\n",
    "    clf.set_params(**other_parameter_values)\n",
    "    grid_search = GridSearchCV(estimator = clf, param_grid = grid, scoring='roc_auc', cv = 5, verbose = 100)\n",
    "    grid_search.fit(X, y)\n",
    "    ind = find_index(grid_search.best_params_[parameter_name], first_level_values)\n",
    "    if(ind == -1):\n",
    "        return grid_search.best_params_[parameter_name]\n",
    "    else:\n",
    "        grid = {parameter_name: second_level_values[ind]}\n",
    "        grid_search = GridSearchCV(estimator = clf, param_grid = grid, scoring='roc_auc', cv = 5, verbose = 100)\n",
    "        grid_search.fit(X, y)\n",
    "        return grid_search.best_params_[parameter_name]\n",
    "    \n",
    "    \n",
    "if __name__ == \"__main__\": \n",
    "    # load labeled data\n",
    "    train_df = pd.read_csv('train.csv')\n",
    "    train_data = pd.DataFrame.as_matrix(train_df)\n",
    "    y = train_data[:,0]; X = train_data[:,1:9];\n",
    "    # load unlabeled data\n",
    "    test_df = pd.read_csv('test.csv')\n",
    "    test_data = pd.DataFrame.as_matrix(test_df)\n",
    "    id_test = test_data[:,0]; X_test = test_data[:,1:9];\n",
    "    \n",
    "    X_fitting = np.vstack([X, X_test])\n",
    "    enc = OneHotEncoder(categorical_features='all')\n",
    "    enc.fit(X_fitting)\n",
    "    X = enc.transform(X)"
   ]
  },
  {
   "cell_type": "code",
   "execution_count": null,
   "metadata": {
    "collapsed": false,
    "scrolled": false
   },
   "outputs": [],
   "source": [
    "# cross validation\n",
    "#grid = {'min_child_weight':range(1,6,2), \n",
    "#        'colsample_bytree':[i/10.0 for i in range(6,8)],\n",
    "#        'max_delta_step':[i for i in range(1,3)]}\n",
    "#grid = {'max_delta_step':[i for i in range(1,3)],\n",
    "#       'gamma':[0,0.001,0.01,0.1,1,10]}\n",
    "#     grid = {'n_estimators': [50,100,200,400,800]}\n",
    "#     grid_search = GridSearchCV(estimator = xgb.XGBClassifier(learning_rate =0.2, n_estimators=90, max_depth=9, objective= 'binary:logistic', seed=27), param_grid = grid, scoring='roc_auc', cv=5)\n",
    "#     grid_search.fit(X, y)\n",
    "#     print grid_search.best_params_\n",
    "other_parameter_values = {'C': 1,\n",
    "                          'probability':True,\n",
    "                          'kernel':'linear'}\n",
    "parameter_name = 'C'\n",
    "other_parameter_values[parameter_name] = find_best_value_for_parameter(X, y, other_parameter_values,\n",
    "                                                                      parameter_name,\n",
    "                                                                      [0.01,0.1,1,10,100],\n",
    "                                                                      {0:[0.01, 0.02, 0.04, 0.08],\n",
    "                                                                       1:[0.1, 0.2, 0.4, 0.8],\n",
    "                                                                       2:[1, 2, 4, 8],\n",
    "                                                                       3:[10, 20, 40, 80],\n",
    "                                                                       4:[100, 200, 400, 800]})"
   ]
  },
  {
   "cell_type": "code",
   "execution_count": null,
   "metadata": {
    "collapsed": false
   },
   "outputs": [],
   "source": [
    "print other_parameter_values[parameter_name]"
   ]
  },
  {
   "cell_type": "code",
   "execution_count": null,
   "metadata": {
    "collapsed": false
   },
   "outputs": [],
   "source": [
    "# train with best parameters\n",
    "svm_clsf = svm.SVC(C = 2, kernel = 'linear', probability = True)\n",
    "svm_clsf.fit(X, y)"
   ]
  },
  {
   "cell_type": "code",
   "execution_count": 2,
   "metadata": {
    "collapsed": false
   },
   "outputs": [
    {
     "data": {
      "text/plain": [
       "SVC(C=800, cache_size=200, class_weight=None, coef0=0.0,\n",
       "  decision_function_shape=None, degree=3, gamma='auto', kernel='rbf',\n",
       "  max_iter=-1, probability=True, random_state=None, shrinking=True,\n",
       "  tol=0.001, verbose=False)"
      ]
     },
     "execution_count": 2,
     "metadata": {},
     "output_type": "execute_result"
    }
   ],
   "source": [
    "# train with best parameters\n",
    "svm_clsf = svm.SVC(C = 800, probability = True)\n",
    "svm_clsf.fit(X, y)"
   ]
  },
  {
   "cell_type": "code",
   "execution_count": 3,
   "metadata": {
    "collapsed": false
   },
   "outputs": [],
   "source": [
    "# load unlabeled data\n",
    "test_df = pd.read_csv('test.csv')\n",
    "test_data = pd.DataFrame.as_matrix(test_df)\n",
    "id_test = test_data[:,0]; X_test = test_data[:,1:9];\n",
    "X_test = enc.transform(X_test)\n",
    "# predictions on unlabeled data\n",
    "y_test_pred = svm_clsf.predict_proba(X_test)\n",
    "ans = pd.DataFrame({'Id': id_test, 'Action' : y_test_pred[:,1]})\n",
    "ans.to_csv('SVM-One-Hot-rbf.csv', index=False, columns=['Id', 'Action'])"
   ]
  },
  {
   "cell_type": "code",
   "execution_count": null,
   "metadata": {
    "collapsed": false
   },
   "outputs": [],
   "source": [
    "y_train_pred = xgb_clsf.predict_proba(X)\n",
    "ans = pd.DataFrame({'y': y, 'y_pred' : y_train_pred[:,1]})\n",
    "ans.to_csv('hw3p2_train.csv', index=False, columns=['y', 'y_pred'])"
   ]
  },
  {
   "cell_type": "code",
   "execution_count": null,
   "metadata": {
    "collapsed": false
   },
   "outputs": [],
   "source": [
    "print X_test"
   ]
  },
  {
   "cell_type": "code",
   "execution_count": null,
   "metadata": {
    "collapsed": false
   },
   "outputs": [],
   "source": [
    "print X_test.shape"
   ]
  },
  {
   "cell_type": "code",
   "execution_count": null,
   "metadata": {
    "collapsed": false
   },
   "outputs": [],
   "source": [
    "y"
   ]
  },
  {
   "cell_type": "code",
   "execution_count": null,
   "metadata": {
    "collapsed": false
   },
   "outputs": [],
   "source": [
    "A = [0.848122,\n",
    "0.841739,\n",
    "0.832232,\n",
    "0.817968,\n",
    "0.837927]\n",
    "print np.mean(A)"
   ]
  },
  {
   "cell_type": "code",
   "execution_count": null,
   "metadata": {
    "collapsed": true
   },
   "outputs": [],
   "source": [
    "other_parameter_values = {'C': 1,\n",
    "                          'probability':True\n",
    "                         }\n",
    "Acc = {}\n",
    "Acc[(800, 'rbf')] = 0.8263392\n",
    "Acc[(2, 'linear')] = 0.8355976"
   ]
  }
 ],
 "metadata": {
  "kernelspec": {
   "display_name": "Python 2",
   "language": "python",
   "name": "python2"
  },
  "language_info": {
   "codemirror_mode": {
    "name": "ipython",
    "version": 2
   },
   "file_extension": ".py",
   "mimetype": "text/x-python",
   "name": "python",
   "nbconvert_exporter": "python",
   "pygments_lexer": "ipython2",
   "version": "2.7.11"
  }
 },
 "nbformat": 4,
 "nbformat_minor": 0
}
