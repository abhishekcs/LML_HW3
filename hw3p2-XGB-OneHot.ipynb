{
 "cells": [
  {
   "cell_type": "code",
   "execution_count": 1,
   "metadata": {
    "collapsed": true
   },
   "outputs": [],
   "source": [
    "import numpy as np\n",
    "import pandas as pd\n",
    "import sklearn as sk\n",
    "import xgboost as xgb\n",
    "\n",
    "from sklearn.grid_search import GridSearchCV\n",
    "from sklearn.preprocessing import OneHotEncoder\n",
    "\n",
    "def find_index(value, li):\n",
    "    l = len(li)\n",
    "    for i in range(l):\n",
    "        if(li[i] == value):\n",
    "            return i\n",
    "    return -1\n",
    "\n",
    "\n",
    "def find_best_value_for_parameter(X, y,\n",
    "                                  other_parameter_values,\n",
    "                                  parameter_name,\n",
    "                                  first_level_values,\n",
    "                                  second_level_values):\n",
    "    grid = {parameter_name: first_level_values}\n",
    "    clf = xgb.XGBClassifier()\n",
    "    clf.set_params(**other_parameter_values)\n",
    "    grid_search = GridSearchCV(estimator = clf, param_grid = grid, scoring='roc_auc', cv = 5, verbose = 100)\n",
    "    grid_search.fit(X, y)\n",
    "    ind = find_index(grid_search.best_params_[parameter_name], first_level_values)\n",
    "    if(ind == -1):\n",
    "        return grid_search.best_params_[parameter_name]\n",
    "    else:\n",
    "        grid = {parameter_name: second_level_values[ind]}\n",
    "        grid_search = GridSearchCV(estimator = clf, param_grid = grid, scoring='roc_auc', cv = 5, verbose = 100)\n",
    "        grid_search.fit(X, y)\n",
    "        return grid_search.best_params_[parameter_name]\n",
    "    \n",
    "    \n",
    "if __name__ == \"__main__\": \n",
    "    # load labeled data\n",
    "    train_df = pd.read_csv('train.csv')\n",
    "    train_data = pd.DataFrame.as_matrix(train_df)\n",
    "    y = train_data[:,0]; X = train_data[:,1:9];\n",
    "    # load unlabeled data\n",
    "    test_df = pd.read_csv('test.csv')\n",
    "    test_data = pd.DataFrame.as_matrix(test_df)\n",
    "    id_test = test_data[:,0]; X_test = test_data[:,1:9];\n",
    "    \n",
    "    X_fitting = np.vstack([X, X_test])\n",
    "    enc = OneHotEncoder(categorical_features='all')\n",
    "    enc.fit(X_fitting)\n",
    "    X = enc.transform(X)"
   ]
  },
  {
   "cell_type": "code",
   "execution_count": null,
   "metadata": {
    "collapsed": false,
    "scrolled": true
   },
   "outputs": [],
   "source": [
    "# cross validation\n",
    "#grid = {'min_child_weight':range(1,6,2), \n",
    "#        'colsample_bytree':[i/10.0 for i in range(6,8)],\n",
    "#        'max_delta_step':[i for i in range(1,3)]}\n",
    "#grid = {'max_delta_step':[i for i in range(1,3)],\n",
    "#       'gamma':[0,0.001,0.01,0.1,1,10]}\n",
    "#     grid = {'n_estimators': [50,100,200,400,800]}\n",
    "#     grid_search = GridSearchCV(estimator = xgb.XGBClassifier(learning_rate =0.2, n_estimators=90, max_depth=9, objective= 'binary:logistic', seed=27), param_grid = grid, scoring='roc_auc', cv=5)\n",
    "#     grid_search.fit(X, y)\n",
    "#     print grid_search.best_params_\n",
    "other_parameter_values = {'learning_rate': 0.2,\n",
    "                          'n_estimators':90,\n",
    "                          'max_depth':9,\n",
    "                          'objective':'binary:logistic'}\n",
    "parameter_name = 'n_estimators'\n",
    "other_parameter_values[parameter_name] = find_best_value_for_parameter(X, y, other_parameter_values,\n",
    "                                                                      parameter_name,\n",
    "                                                                      [50,100,200,400,800],\n",
    "                                                                      {0:[50,60,70,80,90],\n",
    "                                                                       1:[100,120,140,160,180],\n",
    "                                                                       2:[200,240,280,320,360],\n",
    "                                                                       3:[400,480,560,640,720],\n",
    "                                                                       4:[880,960, ]})"
   ]
  },
  {
   "cell_type": "code",
   "execution_count": null,
   "metadata": {
    "collapsed": false
   },
   "outputs": [],
   "source": [
    "print other_parameter_values[parameter_name]"
   ]
  },
  {
   "cell_type": "code",
   "execution_count": null,
   "metadata": {
    "collapsed": false
   },
   "outputs": [],
   "source": [
    "parameter_name = 'max_depth'\n",
    "other_parameter_values[parameter_name] = find_best_value_for_parameter(X, y, other_parameter_values,\n",
    "                                                                      parameter_name,\n",
    "                                                                      [4, 8, 16, 32],\n",
    "                                                                      {0:[4,5,6,7],\n",
    "                                                                       1:[8,9,10,11,12,13,14,15],\n",
    "                                                                       2:[16,20,24,28],\n",
    "                                                                       3:[32, 40, 48, 56]})"
   ]
  },
  {
   "cell_type": "code",
   "execution_count": null,
   "metadata": {
    "collapsed": false
   },
   "outputs": [],
   "source": [
    " print other_parameter_values[parameter_name]"
   ]
  },
  {
   "cell_type": "code",
   "execution_count": null,
   "metadata": {
    "collapsed": false
   },
   "outputs": [],
   "source": [
    "parameter_name = 'colsample_bytree'\n",
    "other_parameter_values[parameter_name] = find_best_value_for_parameter(X, y, other_parameter_values,\n",
    "                                                                      parameter_name,\n",
    "                                                                      [0.1, 0.2],\n",
    "                                                                      {0:[0.1,0.12,0.14,0.16,0.18],\n",
    "                                                                       1:[0.2,0.22,0.24,0.26,0.28]})"
   ]
  },
  {
   "cell_type": "code",
   "execution_count": null,
   "metadata": {
    "collapsed": false
   },
   "outputs": [],
   "source": [
    " print other_parameter_values"
   ]
  },
  {
   "cell_type": "code",
   "execution_count": null,
   "metadata": {
    "collapsed": false,
    "scrolled": true
   },
   "outputs": [],
   "source": [
    "parameter_name = 'min_child_weight'\n",
    "other_parameter_values[parameter_name] = find_best_value_for_parameter(X, y, other_parameter_values,\n",
    "                                                                      parameter_name,\n",
    "                                                                      [0.001, 0.01],\n",
    "                                                                      {0:[0.001, 0.002, 0.004, 0.008],\n",
    "                                                                       1:[0.01 , 0.02 , 0.04 , 0.08 ]})"
   ]
  },
  {
   "cell_type": "code",
   "execution_count": null,
   "metadata": {
    "collapsed": false
   },
   "outputs": [],
   "source": [
    "print other_parameter_values"
   ]
  },
  {
   "cell_type": "code",
   "execution_count": null,
   "metadata": {
    "collapsed": false
   },
   "outputs": [],
   "source": [
    "parameter_name = 'max_delta_step'\n",
    "other_parameter_values[parameter_name] = find_best_value_for_parameter(X, y, other_parameter_values,\n",
    "                                                                      parameter_name,\n",
    "                                                                      [1, 2, 4, 8],\n",
    "                                                                      {0:[1, 1.2, 1.4, 1.6, 1.8],\n",
    "                                                                       1:[2, 2.4, 2.8, 3.2, 3.6],\n",
    "                                                                       2:[4, 4.8, 5.6, 6.4, 7.2],\n",
    "                                                                       3:[8, 9.6, 11.2, 12.8, 14.4]})"
   ]
  },
  {
   "cell_type": "code",
   "execution_count": null,
   "metadata": {
    "collapsed": false
   },
   "outputs": [],
   "source": [
    "print other_parameter_values"
   ]
  },
  {
   "cell_type": "code",
   "execution_count": 2,
   "metadata": {
    "collapsed": false
   },
   "outputs": [
    {
     "data": {
      "text/plain": [
       "XGBClassifier(base_score=0.5, colsample_bylevel=1, colsample_bytree=0.22,\n",
       "       gamma=0, learning_rate=0.2, max_delta_step=4, max_depth=16,\n",
       "       min_child_weight=0.04, missing=None, n_estimators=880, nthread=-1,\n",
       "       objective='binary:logistic', reg_alpha=0, reg_lambda=1,\n",
       "       scale_pos_weight=1, seed=0, silent=True, subsample=1)"
      ]
     },
     "execution_count": 2,
     "metadata": {},
     "output_type": "execute_result"
    }
   ],
   "source": [
    "#     train with best parameters\n",
    "xgb_clsf = xgb.XGBClassifier(learning_rate =0.2,\n",
    "                             n_estimators=880, \n",
    "                             max_depth=16,\n",
    "                             objective= 'binary:logistic',\n",
    "                             min_child_weight = 0.04,\n",
    "                             colsample_bytree = 0.22,\n",
    "                             max_delta_step=4)\n",
    "#gamma = 0.0)\n",
    "   \n",
    "# xgb_clsf = xgb.XGBClassifier(objective = 'binary:logistic') \n",
    "# xgb_clsf = xgb.XGBClassifier()\n",
    "# xgb_clsf.set_params(**other_parameter_values)\n",
    "xgb_clsf.fit(X, y)\n",
    "\n",
    "# print other_parameter_values"
   ]
  },
  {
   "cell_type": "code",
   "execution_count": 3,
   "metadata": {
    "collapsed": false
   },
   "outputs": [],
   "source": [
    "# load unlabeled data\n",
    "test_df = pd.read_csv('test.csv')\n",
    "test_data = pd.DataFrame.as_matrix(test_df)\n",
    "id_test = test_data[:,0]; X_test = test_data[:,1:9];\n",
    "X_test = enc.transform(X_test)\n",
    "# predictions on unlabeled data\n",
    "y_test_pred = xgb_clsf.predict_proba(X_test)\n",
    "ans = pd.DataFrame({'Id': id_test, 'Action' : y_test_pred[:,1]})\n",
    "ans.to_csv('XGB-One-Hot.csv', index=False, columns=['Id', 'Action'])"
   ]
  },
  {
   "cell_type": "code",
   "execution_count": null,
   "metadata": {
    "collapsed": false
   },
   "outputs": [],
   "source": [
    "y_train_pred = xgb_clsf.predict_proba(X)\n",
    "ans = pd.DataFrame({'y': y, 'y_pred' : y_train_pred[:,1]})\n",
    "ans.to_csv('hw3p2_train.csv', index=False, columns=['y', 'y_pred'])"
   ]
  },
  {
   "cell_type": "code",
   "execution_count": null,
   "metadata": {
    "collapsed": false
   },
   "outputs": [],
   "source": [
    "print X_test"
   ]
  },
  {
   "cell_type": "code",
   "execution_count": null,
   "metadata": {
    "collapsed": false
   },
   "outputs": [],
   "source": [
    "print X_test.shape"
   ]
  },
  {
   "cell_type": "code",
   "execution_count": null,
   "metadata": {
    "collapsed": false
   },
   "outputs": [],
   "source": [
    "y"
   ]
  },
  {
   "cell_type": "code",
   "execution_count": null,
   "metadata": {
    "collapsed": false
   },
   "outputs": [],
   "source": [
    "A = [0.883687,\n",
    "0.882011,\n",
    "0.875992,\n",
    "0.871452,\n",
    "0.874892]\n",
    "print np.mean(A)"
   ]
  },
  {
   "cell_type": "code",
   "execution_count": null,
   "metadata": {
    "collapsed": true
   },
   "outputs": [],
   "source": [
    "other_parameter_values = {'learning_rate': 0.2,\n",
    "                          'n_estimators':90,\n",
    "                          'max_depth':9,\n",
    "                          'objective':'binary:logistic'}\n",
    "\n",
    "Acc = {}\n",
    "\n",
    "Acc[200] = 0.8436422\n",
    "Acc[400] = 0.851833\n",
    "Acc[800] = 0.8564346\n",
    "Acc[880] = 0.856721\n",
    "Acc[960] = 0.8564782\n",
    "Acc[(880, 16)] = 0.8569396\n",
    "Acc[(0.3, 880, 16)] = 0.8596584\n",
    "Acc[(0.22, 880, 16)] = 0.8597334\n",
    "Acc[(0.22, 880, 16, 0.1)] = 0.8759102\n",
    "Acc[(0.22, 880, 16, 0.04)] = 0.8776068"
   ]
  },
  {
   "cell_type": "code",
   "execution_count": null,
   "metadata": {
    "collapsed": true
   },
   "outputs": [],
   "source": []
  }
 ],
 "metadata": {
  "kernelspec": {
   "display_name": "Python 2",
   "language": "python",
   "name": "python2"
  },
  "language_info": {
   "codemirror_mode": {
    "name": "ipython",
    "version": 2
   },
   "file_extension": ".py",
   "mimetype": "text/x-python",
   "name": "python",
   "nbconvert_exporter": "python",
   "pygments_lexer": "ipython2",
   "version": "2.7.11"
  }
 },
 "nbformat": 4,
 "nbformat_minor": 0
}
