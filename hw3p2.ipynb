{
 "cells": [
  {
   "cell_type": "code",
   "execution_count": 64,
   "metadata": {
    "collapsed": true
   },
   "outputs": [],
   "source": [
    "import numpy as np\n",
    "import pandas as pd\n",
    "import sklearn as sk\n",
    "import xgboost as xgb\n",
    "\n",
    "from sklearn.grid_search import GridSearchCV\n",
    "\n",
    "def find_index(value, li):\n",
    "    l = len(li)\n",
    "    for i in range(l):\n",
    "        if(li[i] == value):\n",
    "            return i\n",
    "    return -1\n",
    "\n",
    "\n",
    "def find_best_value_for_parameter(X, y, other_parameter_values,\n",
    "                                  parameter_name,\n",
    "                                 first_level_values,\n",
    "                                 second_level_values):\n",
    "    grid = {parameter_name: first_level_values}\n",
    "    clf = xgb.XGBClassifier()\n",
    "    clf.set_params(**other_parameter_values)\n",
    "    grid_search = GridSearchCV(estimator = clf, param_grid = grid, scoring='roc_auc', cv=5)\n",
    "    grid_search.fit(X, y)\n",
    "    ind = find_index(grid_search.best_params_[parameter_name], first_level_values)\n",
    "    if(ind == -1):\n",
    "        return grid_search.best_params_[parameter_name]\n",
    "    else:\n",
    "        grid = {parameter_name: second_level_values[ind]}\n",
    "        grid_search = GridSearchCV(estimator = clf, param_grid = grid, scoring='roc_auc', cv=5)\n",
    "        grid_search.fit(X, y)\n",
    "        return grid_search.best_params_[parameter_name]\n",
    "    \n",
    "    \n",
    "if __name__ == \"__main__\": \n",
    "    # load labeled data\n",
    "    train_df = pd.read_csv('train.csv')\n",
    "    train_data = pd.DataFrame.as_matrix(train_df)\n",
    "    y = train_data[:,0]; X = train_data[:,1:9];\n",
    "    from sklearn.preprocessing import OneHotEncoder\n",
    "    enc = OneHotEncoder(categorical_features=[1])\n",
    "    X = enc.fit_transform(X)"
   ]
  },
  {
   "cell_type": "code",
   "execution_count": 39,
   "metadata": {
    "collapsed": true
   },
   "outputs": [],
   "source": [
    "    # cross validation\n",
    "    #grid = {'min_child_weight':range(1,6,2), \n",
    "    #        'colsample_bytree':[i/10.0 for i in range(6,8)],\n",
    "    #        'max_delta_step':[i for i in range(1,3)]}\n",
    "    #grid = {'max_delta_step':[i for i in range(1,3)],\n",
    "    #       'gamma':[0,0.001,0.01,0.1,1,10]}\n",
    "#     grid = {'n_estimators': [50,100,200,400,800]}\n",
    "#     grid_search = GridSearchCV(estimator = xgb.XGBClassifier(learning_rate =0.2, n_estimators=90, max_depth=9, objective= 'binary:logistic', seed=27), param_grid = grid, scoring='roc_auc', cv=5)\n",
    "#     grid_search.fit(X, y)\n",
    "#     print grid_search.best_params_\n",
    "    other_parameter_values = {'learning_rate': 0.2,\n",
    "                              'n_estimators':90,\n",
    "                              'max_depth':9,\n",
    "                              'objective':'binary:logistic',\n",
    "                              'seed':27}\n",
    "    parameter_name = 'n_estimators'\n",
    "    other_parameter_values[parameter_name] = find_best_value_for_parameter(X, y, other_parameter_values,\n",
    "                                                                          parameter_name,\n",
    "                                                                          [50,100,200,400,800],\n",
    "                                                                          {0:[50,60,70,80,90],\n",
    "                                                                           1:[100,120,140,160,180],\n",
    "                                                                           2:[200,240,280,320,360],\n",
    "                                                                           3:[400,480,560,640,720],\n",
    "                                                                           4:[800,880,960]})"
   ]
  },
  {
   "cell_type": "code",
   "execution_count": null,
   "metadata": {
    "collapsed": true
   },
   "outputs": [],
   "source": [
    "    print other_parameter_values[parameter_name]"
   ]
  },
  {
   "cell_type": "code",
   "execution_count": null,
   "metadata": {
    "collapsed": true
   },
   "outputs": [],
   "source": [
    "    parameter_name = 'max_depth'\n",
    "    other_parameter_values[parameter_name] = find_best_value_for_parameter(X, y, other_parameter_values,\n",
    "                                                                          parameter_name,\n",
    "                                                                          [4, 8, 16, 32],\n",
    "                                                                          {0:[4,5,6,7],\n",
    "                                                                           1:[8,9,10,11,12,13,14,15],\n",
    "                                                                           2:[16,20,24,28],\n",
    "                                                                           3:[32, 40, 48, 56]})\n",
    "    "
   ]
  },
  {
   "cell_type": "code",
   "execution_count": null,
   "metadata": {
    "collapsed": true
   },
   "outputs": [],
   "source": [
    "     print other_parameter_values[parameter_name]\n",
    "    "
   ]
  },
  {
   "cell_type": "code",
   "execution_count": null,
   "metadata": {
    "collapsed": true
   },
   "outputs": [],
   "source": [
    "    parameter_name = 'colsample_bytree'\n",
    "    other_parameter_values[parameter_name] = find_best_value_for_parameter(X, y, other_parameter_values,\n",
    "                                                                          parameter_name,\n",
    "                                                                          [0.3, 0.4, 0.5, 0.6, 0.7],\n",
    "                                                                          {0:[0.3,0.32,0.34,0.36,0.38],\n",
    "                                                                           1:[0.4,0.42,0.44,0.46,0.48],\n",
    "                                                                           2:[0.5,0.52,0.54,0.56,0.58],\n",
    "                                                                           3:[0.6,0.62,0.64,0.66,0.68],\n",
    "                                                                           4:[0.7,0.72,0.74,0.76,0.78]}) \n",
    "    "
   ]
  },
  {
   "cell_type": "code",
   "execution_count": null,
   "metadata": {
    "collapsed": true
   },
   "outputs": [],
   "source": [
    "     print other_parameter_values[parameter_name]\n",
    "    "
   ]
  },
  {
   "cell_type": "code",
   "execution_count": null,
   "metadata": {
    "collapsed": true
   },
   "outputs": [],
   "source": [
    "    parameter_name = 'n_estimators'\n",
    "    other_parameter_values[parameter_name] = find_best_value_for_parameter(X, y, other_parameter_values,\n",
    "                                                                          parameter_name,\n",
    "                                                                          [50,100,200,400,800,1600,3200],\n",
    "                                                                          {0:[50],\n",
    "                                                                           1:[100],\n",
    "                                                                           2:[200],\n",
    "                                                                           3:[400],\n",
    "                                                                           4:[800],\n",
    "                                                                           5:[1600],\n",
    "                                                                           6:[3200]})\n",
    "    print other_parameter_values[parameter_name]\n",
    "    "
   ]
  },
  {
   "cell_type": "code",
   "execution_count": null,
   "metadata": {
    "collapsed": true
   },
   "outputs": [],
   "source": [
    "    parameter_name = 'max_depth'\n",
    "    other_parameter_values[parameter_name] = find_best_value_for_parameter(X, y, other_parameter_values,\n",
    "                                                                          parameter_name,\n",
    "                                                                          [4, 8, 16, 32],\n",
    "                                                                          {0:[4,5,6,7],\n",
    "                                                                           1:[8,9,10,11,12,13,14,15],\n",
    "                                                                           2:[16,20,24,28],\n",
    "                                                                           3:[32, 40, 48, 56]})\n",
    "    print other_parameter_values[parameter_name] \n",
    "    "
   ]
  },
  {
   "cell_type": "code",
   "execution_count": 75,
   "metadata": {
    "collapsed": true
   },
   "outputs": [],
   "source": [
    "    parameter_name = 'colsample_bytree'\n",
    "    other_parameter_values[parameter_name] = find_best_value_for_parameter(X, y, other_parameter_values,\n",
    "                                                                          parameter_name,\n",
    "                                                                          [0.1, 0.2, 0.3],\n",
    "                                                                          {0:[0.1],\n",
    "                                                                           1:[0.2],\n",
    "                                                                           2:[0.3]}) \n",
    "    "
   ]
  },
  {
   "cell_type": "code",
   "execution_count": 76,
   "metadata": {
    "collapsed": false
   },
   "outputs": [
    {
     "name": "stdout",
     "output_type": "stream",
     "text": [
      "0.2\n"
     ]
    }
   ],
   "source": [
    "    print other_parameter_values[parameter_name]"
   ]
  },
  {
   "cell_type": "code",
   "execution_count": 77,
   "metadata": {
    "collapsed": false
   },
   "outputs": [
    {
     "name": "stdout",
     "output_type": "stream",
     "text": [
      "{'colsample_bytree': 0.2, 'learning_rate': 0.2, 'n_estimators': 400, 'seed': 27, 'objective': 'binary:logistic', 'max_depth': 32}\n"
     ]
    }
   ],
   "source": [
    "    # train with best parameters\n",
    "#     xgb_clsf = xgb.XGBClassifier(learning_rate =0.2,\n",
    "#                                  n_estimators=100, \n",
    "#                                  max_depth=9, objective= 'binary:logistic',\n",
    "#                                 #min_child_weight = grid_search.best_params_['min_child_weight'],\n",
    "#                                 #colsample_bytree=grid_search.best_params_['colsample_bytree'],\n",
    "#                                  min_child_weight = 1,\n",
    "#                                  colsample_bytree = 0.4)\n",
    "#                                  #gamma = 0.0,\n",
    "#                                  #max_delta_step=2)\n",
    "\n",
    "    \n",
    "    xgb_clsf = xgb.XGBClassifier()\n",
    "    xgb_clsf.set_params(**other_parameter_values)\n",
    "    xgb_clsf.fit(X, y)\n",
    "    \n",
    "    print other_parameter_values"
   ]
  },
  {
   "cell_type": "code",
   "execution_count": 78,
   "metadata": {
    "collapsed": true
   },
   "outputs": [],
   "source": [
    "    # load unlabeled data\n",
    "    test_df = pd.read_csv('test.csv')\n",
    "    test_data = pd.DataFrame.as_matrix(test_df)\n",
    "    id_test = test_data[:,0]; X_test = test_data[:,1:9];\n",
    "    X_test = enc.fit_transform(X_test)\n",
    "    # predictions on unlabeled data\n",
    "    y_test_pred = xgb_clsf.predict_proba(X_test)\n",
    "    ans = pd.DataFrame({'Id': id_test, 'Action' : y_test_pred[:,1]})\n",
    "    ans.to_csv('hw3p2.csv', index=False, columns=['Id', 'Action'])\n",
    "    "
   ]
  },
  {
   "cell_type": "code",
   "execution_count": 69,
   "metadata": {
    "collapsed": false
   },
   "outputs": [
    {
     "name": "stdout",
     "output_type": "stream",
     "text": [
      "  (0, 4080)\t1.0\n",
      "  (1, 642)\t1.0\n",
      "  (2, 295)\t1.0\n",
      "  (3, 2227)\t1.0\n",
      "  (4, 3176)\t1.0\n",
      "  (5, 186)\t1.0\n",
      "  (6, 2327)\t1.0\n",
      "  (7, 401)\t1.0\n",
      "  (8, 1787)\t1.0\n",
      "  (9, 660)\t1.0\n",
      "  (10, 2547)\t1.0\n",
      "  (11, 1036)\t1.0\n",
      "  (12, 3439)\t1.0\n",
      "  (13, 4461)\t1.0\n",
      "  (14, 173)\t1.0\n",
      "  (15, 2209)\t1.0\n",
      "  (16, 3515)\t1.0\n",
      "  (17, 228)\t1.0\n",
      "  (18, 540)\t1.0\n",
      "  (19, 2927)\t1.0\n",
      "  (20, 65)\t1.0\n",
      "  (21, 1175)\t1.0\n",
      "  (22, 347)\t1.0\n",
      "  (23, 922)\t1.0\n",
      "  (24, 3104)\t1.0\n",
      "  :\t:\n",
      "  (58917, 4692)\t124948.0\n",
      "  (58917, 4693)\t118054.0\n",
      "  (58917, 4694)\t118054.0\n",
      "  (58917, 4695)\t117887.0\n",
      "  (58918, 4689)\t39262.0\n",
      "  (58918, 4690)\t117961.0\n",
      "  (58918, 4691)\t118343.0\n",
      "  (58918, 4692)\t6104.0\n",
      "  (58918, 4693)\t118278.0\n",
      "  (58918, 4694)\t118260.0\n",
      "  (58918, 4695)\t290919.0\n",
      "  (58919, 4689)\t1023.0\n",
      "  (58919, 4690)\t117961.0\n",
      "  (58919, 4691)\t118327.0\n",
      "  (58919, 4692)\t120318.0\n",
      "  (58919, 4693)\t118321.0\n",
      "  (58919, 4694)\t117906.0\n",
      "  (58919, 4695)\t290919.0\n",
      "  (58920, 4689)\t44977.0\n",
      "  (58920, 4690)\t117961.0\n",
      "  (58920, 4691)\t118343.0\n",
      "  (58920, 4692)\t118660.0\n",
      "  (58920, 4693)\t119433.0\n",
      "  (58920, 4694)\t133686.0\n",
      "  (58920, 4695)\t118424.0\n"
     ]
    }
   ],
   "source": [
    "    print X_test"
   ]
  },
  {
   "cell_type": "code",
   "execution_count": 79,
   "metadata": {
    "collapsed": false
   },
   "outputs": [
    {
     "name": "stdout",
     "output_type": "stream",
     "text": [
      "(58921, 4696)\n"
     ]
    }
   ],
   "source": [
    "    print X_test.shape"
   ]
  },
  {
   "cell_type": "code",
   "execution_count": null,
   "metadata": {
    "collapsed": true
   },
   "outputs": [],
   "source": []
  }
 ],
 "metadata": {
  "kernelspec": {
   "display_name": "Python 2",
   "language": "python",
   "name": "python2"
  },
  "language_info": {
   "codemirror_mode": {
    "name": "ipython",
    "version": 2
   },
   "file_extension": ".py",
   "mimetype": "text/x-python",
   "name": "python",
   "nbconvert_exporter": "python",
   "pygments_lexer": "ipython2",
   "version": "2.7.10"
  }
 },
 "nbformat": 4,
 "nbformat_minor": 0
}
