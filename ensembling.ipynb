{
 "cells": [
  {
   "cell_type": "code",
   "execution_count": 16,
   "metadata": {
    "collapsed": true
   },
   "outputs": [],
   "source": [
    "import pandas as pd\n",
    "import copy\n",
    "import numpy as np"
   ]
  },
  {
   "cell_type": "code",
   "execution_count": 17,
   "metadata": {
    "collapsed": true
   },
   "outputs": [],
   "source": [
    "def get_weighted_avg(X, weights):\n",
    "    X = np.dot(np.reshape(weights, (1, X.shape[0])), X)\n",
    "    X = np.average(X, axis = 0)\n",
    "    return X\n",
    "\n",
    "def ensemb(pred_file_list, weights, out_file):\n",
    "    weights = weights * 1.0 / np.sum(weights)\n",
    "    A = [pd.read_csv(pred_file) for pred_file in pred_file_list]\n",
    "    X = [np.asarray(a.Action) for a in A]\n",
    "    X = np.asmatrix(X)\n",
    "    X = get_weighted_avg(X, weights)\n",
    "    X = np.squeeze(np.asarray(X))\n",
    "    ans = copy.deepcopy(A[0])\n",
    "    ans.Action = X\n",
    "    ans.to_csv(out_file, index=False)\n",
    "    \n",
    "def get_weights(private_scores):\n",
    "    weights = (np.log(private_scores / (1-private_scores)))**4\n",
    "    weights = weights * 1.0 / np.sum(weights)\n",
    "    return weights"
   ]
  },
  {
   "cell_type": "code",
   "execution_count": 22,
   "metadata": {
    "collapsed": false
   },
   "outputs": [],
   "source": [
    "pred_file_list = ['./XGB-One-Hot.csv', './hw3p1_arun_896.csv', './hw3p2_arun_872.csv', './hw3p3_NB_arun_793.csv','./hw3rf.csv']\n",
    "private_scores = np.asarray([0.8848, 0.896, 0.872, 0.793,0.8744])\n",
    "pred_file_list = ['./XGB-One-Hot.csv', './hw3p1_arun_896.csv', './hw3rf_en.csv', './hw3p2_arun_883.csv']\n",
    "private_scores = np.asarray([0.8848, 0.896, 0.8762, 0.883])\n",
    "# pred_file_list = ['./XGB-One-Hot.csv', './hw3p1_arun_896.csv']\n",
    "# private_scores = np.asarray([0.8848, 0.896])\n",
    "out_file = './ensemb_pred_xgboneh_arun896_rfen_arun883.csv'\n",
    "weights = get_weights(private_scores)\n",
    "ensemb(pred_file_list, weights, out_file)"
   ]
  },
  {
   "cell_type": "code",
   "execution_count": 19,
   "metadata": {
    "collapsed": false
   },
   "outputs": [
    {
     "data": {
      "text/plain": [
       "array([ 0.44540943,  0.55459057])"
      ]
     },
     "execution_count": 19,
     "metadata": {},
     "output_type": "execute_result"
    }
   ],
   "source": [
    "weights"
   ]
  },
  {
   "cell_type": "code",
   "execution_count": null,
   "metadata": {
    "collapsed": true
   },
   "outputs": [],
   "source": []
  }
 ],
 "metadata": {
  "kernelspec": {
   "display_name": "Python 2",
   "language": "python",
   "name": "python2"
  },
  "language_info": {
   "codemirror_mode": {
    "name": "ipython",
    "version": 2
   },
   "file_extension": ".py",
   "mimetype": "text/x-python",
   "name": "python",
   "nbconvert_exporter": "python",
   "pygments_lexer": "ipython2",
   "version": "2.7.10"
  }
 },
 "nbformat": 4,
 "nbformat_minor": 0
}
